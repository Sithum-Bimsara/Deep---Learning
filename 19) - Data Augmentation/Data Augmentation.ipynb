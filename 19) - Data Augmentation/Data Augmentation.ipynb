{
 "cells": [
  {
   "cell_type": "markdown",
   "id": "3788565e-f95a-48a4-9a65-0b04d6e7737c",
   "metadata": {},
   "source": [
    "# Data Augmentation in Deep Learning\n",
    "\n",
    "## Introduction\n",
    "Data Augmentation is a technique used in deep learning to artificially increase the size and diversity of a dataset by applying various transformations to the existing data. These transformations help models generalize better by reducing overfitting and improving robustness to variations in the data.\n",
    "\n",
    "---\n",
    "\n",
    "## Why Use Data Augmentation?\n",
    "1. **Prevent Overfitting**: Increases dataset size, reducing the chance of overfitting.\n",
    "2. **Improve Model Generalization**: Exposes the model to a variety of scenarios.\n",
    "3. **Enhance Robustness**: Makes models resilient to real-world variations (e.g., noise, rotations).\n",
    "4. **Cost-Effective**: Avoids the need for collecting large amounts of labeled data.\n",
    "\n",
    "---\n",
    "\n",
    "## Common Data Augmentation Techniques\n",
    "\n",
    "### For Image Data\n",
    "1. **Geometric Transformations**:\n",
    "    - Rotation\n",
    "    - Translation (shifting)\n",
    "    - Scaling\n",
    "    - Flipping (horizontal/vertical)\n",
    "    - Cropping\n",
    "\n",
    "2. **Color Adjustments**:\n",
    "    - Brightness adjustment\n",
    "    - Contrast adjustment\n",
    "    - Saturation variation\n",
    "    - Hue shifting\n",
    "\n",
    "3. **Noise Injection**:\n",
    "    - Adding random noise (Gaussian, Salt-and-Pepper, etc.)\n",
    "\n",
    "4. **Kernel-based Effects**:\n",
    "    - Blurring\n",
    "    - Sharpening\n",
    "\n",
    "5. **Advanced Methods**:\n",
    "    - CutMix\n",
    "    - MixUp\n",
    "    - Random Erasing\n",
    "\n",
    "### For Text Data\n",
    "1. **Synonym Replacement**: Replace words with their synonyms.\n",
    "2. **Random Insertion**: Add random words at different positions.\n",
    "3. **Random Deletion**: Remove words from the text.\n",
    "4. **Back Translation**: Translate to another language and back to the original.\n",
    "5. **Word Embedding Perturbation**: Slightly alter word embeddings.\n",
    "\n",
    "### For Audio Data\n",
    "1. **Time Shifting**: Shift audio signals along the time axis.\n",
    "2. **Pitch Shifting**: Alter the pitch of the audio.\n",
    "3. **Speed Variation**: Change the speed without distorting the pitch.\n",
    "4. **Adding Noise**: Inject background noise or static.\n",
    "5. **Frequency Masking**: Mask certain frequency ranges.\n",
    "\n",
    "---\n",
    "\n",
    "## Tools and Libraries for Data Augmentation\n",
    "1. **Python Libraries**:\n",
    "    - `torchvision` (for PyTorch)\n",
    "    - `imgaug`\n",
    "    - `albumentations`\n",
    "    - `keras.preprocessing.image` (for TensorFlow/Keras)\n",
    "    - `nltk` (for text)\n",
    "\n",
    "2. **Integration in Frameworks**:\n",
    "    - TensorFlow's `tf.image` and `tf.data`\n",
    "    - PyTorch's `transforms`\n",
    "\n",
    "---\n",
    "\n",
    "## Examples\n",
    "\n",
    "### Image Data Augmentation with PyTorch\n",
    "```python\n",
    "from torchvision import transforms\n",
    "\n",
    "transform = transforms.Compose([\n",
    "    transforms.RandomHorizontalFlip(),\n",
    "    transforms.RandomRotation(10),\n",
    "    transforms.ColorJitter(brightness=0.2, contrast=0.2, saturation=0.2, hue=0.1),\n",
    "    transforms.ToTensor()\n",
    "])\n",
    "```\n",
    "\n",
    "## Challenges\n",
    "1. **Over-Augmentation**: Excessive augmentation may distort the data, leading to poor model performance.\n",
    "2. **Domain Specificity**: Not all augmentation techniques are suitable for every domain.\n",
    "3. **Compute Costs**: Real-time augmentation during training can increase computational load.\n",
    "\n",
    "---\n",
    "\n",
    "## Conclusion\n",
    "Data Augmentation is a powerful and essential tool in deep learning. By artificially expanding datasets, it helps improve model performance, robustness, and generalization, making it an integral part of modern machine learning pipelines.\n"
   ]
  },
  {
   "cell_type": "code",
   "execution_count": 4,
   "id": "7f0426da-ce79-4d6b-b46c-ad37a8473b54",
   "metadata": {},
   "outputs": [],
   "source": [
    "# import methods to convert images to numerical array and load images\n",
    "from tensorflow.keras.utils import img_to_array, load_img"
   ]
  },
  {
   "cell_type": "code",
   "execution_count": 6,
   "id": "ca55bb12-ba89-41f4-91c8-44b59288c154",
   "metadata": {},
   "outputs": [],
   "source": [
    "# load image\n",
    "img = load_img('elephant.jpg')"
   ]
  },
  {
   "cell_type": "code",
   "execution_count": 8,
   "id": "5a1b2b7c-6885-4c2a-b916-13f9ca610188",
   "metadata": {},
   "outputs": [],
   "source": [
    "img.show()"
   ]
  },
  {
   "cell_type": "code",
   "execution_count": 10,
   "id": "aac02292-4f73-44c0-8a62-6be172ee486c",
   "metadata": {},
   "outputs": [],
   "source": [
    "# convert image to numerical array\n",
    "x = img_to_array(img)"
   ]
  },
  {
   "cell_type": "code",
   "execution_count": 12,
   "id": "9a9c991e-4034-47b8-b520-8cec63296a09",
   "metadata": {},
   "outputs": [
    {
     "data": {
      "text/plain": [
       "(600, 1000, 3)"
      ]
     },
     "execution_count": 12,
     "metadata": {},
     "output_type": "execute_result"
    }
   ],
   "source": [
    "x.shape"
   ]
  },
  {
   "cell_type": "code",
   "execution_count": 14,
   "id": "2024e7e4-7d8f-47dc-a103-e08ca4725156",
   "metadata": {},
   "outputs": [],
   "source": [
    "# reshape image\n",
    "x = x.reshape((1,) + x.shape)"
   ]
  },
  {
   "cell_type": "code",
   "execution_count": 16,
   "id": "1b4db25f-2ab1-4bd2-8c91-6b3543ed92a7",
   "metadata": {},
   "outputs": [
    {
     "data": {
      "text/plain": [
       "(1, 600, 1000, 3)"
      ]
     },
     "execution_count": 16,
     "metadata": {},
     "output_type": "execute_result"
    }
   ],
   "source": [
    "x.shape"
   ]
  },
  {
   "cell_type": "code",
   "execution_count": 18,
   "id": "a5239212-cd66-4870-97c4-b2637723c327",
   "metadata": {},
   "outputs": [],
   "source": [
    "# import ImageDataGenerator class\n",
    "from tensorflow.keras.preprocessing.image import ImageDataGenerator"
   ]
  },
  {
   "cell_type": "code",
   "execution_count": 20,
   "id": "ca686bfd-cd09-4170-b999-126d03a3b22a",
   "metadata": {},
   "outputs": [],
   "source": [
    "# initialize data augmentation object\n",
    "datagen = ImageDataGenerator(\n",
    "        rotation_range=40,\n",
    "        width_shift_range=0.2,\n",
    "        height_shift_range=0.2,\n",
    "        rescale=1./255,\n",
    "        shear_range=0.2,\n",
    "        zoom_range=0.2,\n",
    "        horizontal_flip=True)"
   ]
  },
  {
   "cell_type": "code",
   "execution_count": 22,
   "id": "d83a1bba-69e5-413f-9a69-2bc919447644",
   "metadata": {},
   "outputs": [],
   "source": [
    "# apply data augmentation on images\n",
    "i = 0\n",
    "for batch in datagen.flow(x, batch_size=1, save_to_dir='augmented_images', save_prefix='elephant', save_format='jpeg'):\n",
    "    i += 1\n",
    "    if i > 20:\n",
    "        break"
   ]
  },
  {
   "cell_type": "code",
   "execution_count": null,
   "id": "9be48934-90f2-493a-931c-a4d198f5e07a",
   "metadata": {},
   "outputs": [],
   "source": []
  }
 ],
 "metadata": {
  "kernelspec": {
   "display_name": "Python [conda env:base] *",
   "language": "python",
   "name": "conda-base-py"
  },
  "language_info": {
   "codemirror_mode": {
    "name": "ipython",
    "version": 3
   },
   "file_extension": ".py",
   "mimetype": "text/x-python",
   "name": "python",
   "nbconvert_exporter": "python",
   "pygments_lexer": "ipython3",
   "version": "3.12.7"
  }
 },
 "nbformat": 4,
 "nbformat_minor": 5
}
